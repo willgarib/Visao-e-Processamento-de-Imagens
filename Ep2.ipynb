{
 "cells": [
  {
   "cell_type": "code",
   "execution_count": 1,
   "id": "47910cdc",
   "metadata": {},
   "outputs": [
    {
     "name": "stdout",
     "output_type": "stream",
     "text": [
      "Requirement already satisfied: opencv-python in c:\\users\\william.garib\\anaconda3\\lib\\site-packages (4.10.0.84)\n",
      "Requirement already satisfied: numpy>=1.17.3 in c:\\users\\william.garib\\anaconda3\\lib\\site-packages (from opencv-python) (1.20.3)\n"
     ]
    }
   ],
   "source": [
    "!pip install opencv-python\n",
    "from ImageBase import ImageBase\n",
    "import numpy as np\n",
    "from cv2 import imwrite, cvtColor, COLOR_BGR2GRAY, resize"
   ]
  },
  {
   "cell_type": "markdown",
   "id": "52d123f0",
   "metadata": {},
   "source": [
    "# Amostra da Oganização dos Arquivos"
   ]
  },
  {
   "cell_type": "code",
   "execution_count": 2,
   "id": "d4ea58cd",
   "metadata": {},
   "outputs": [
    {
     "data": {
      "text/html": [
       "<div>\n",
       "<style scoped>\n",
       "    .dataframe tbody tr th:only-of-type {\n",
       "        vertical-align: middle;\n",
       "    }\n",
       "\n",
       "    .dataframe tbody tr th {\n",
       "        vertical-align: top;\n",
       "    }\n",
       "\n",
       "    .dataframe thead th {\n",
       "        text-align: right;\n",
       "    }\n",
       "</style>\n",
       "<table border=\"1\" class=\"dataframe\">\n",
       "  <thead>\n",
       "    <tr style=\"text-align: right;\">\n",
       "      <th></th>\n",
       "      <th>path</th>\n",
       "      <th>classe</th>\n",
       "      <th>iluminacao</th>\n",
       "      <th>fundo</th>\n",
       "      <th>C</th>\n",
       "      <th>F</th>\n",
       "      <th>H</th>\n",
       "      <th>M</th>\n",
       "      <th>N</th>\n",
       "      <th>O</th>\n",
       "      <th>P</th>\n",
       "      <th>R</th>\n",
       "      <th>T</th>\n",
       "      <th>X</th>\n",
       "      <th>size</th>\n",
       "    </tr>\n",
       "    <tr>\n",
       "      <th>id</th>\n",
       "      <th></th>\n",
       "      <th></th>\n",
       "      <th></th>\n",
       "      <th></th>\n",
       "      <th></th>\n",
       "      <th></th>\n",
       "      <th></th>\n",
       "      <th></th>\n",
       "      <th></th>\n",
       "      <th></th>\n",
       "      <th></th>\n",
       "      <th></th>\n",
       "      <th></th>\n",
       "      <th></th>\n",
       "      <th></th>\n",
       "    </tr>\n",
       "  </thead>\n",
       "  <tbody>\n",
       "    <tr>\n",
       "      <th>PCT$E@A2.JPG</th>\n",
       "      <td>ImageBase\\Ext\\Fa2\\PCT$E@A2.JPG</td>\n",
       "      <td>[C, P, T]</td>\n",
       "      <td>E</td>\n",
       "      <td>A2</td>\n",
       "      <td>True</td>\n",
       "      <td>False</td>\n",
       "      <td>False</td>\n",
       "      <td>False</td>\n",
       "      <td>False</td>\n",
       "      <td>False</td>\n",
       "      <td>True</td>\n",
       "      <td>False</td>\n",
       "      <td>True</td>\n",
       "      <td>False</td>\n",
       "      <td>3.426981</td>\n",
       "    </tr>\n",
       "    <tr>\n",
       "      <th>POMCT$E@A2.JPG</th>\n",
       "      <td>ImageBase\\Ext\\Fa2\\POMCT$E@A2.JPG</td>\n",
       "      <td>[C, M, O, P, T]</td>\n",
       "      <td>E</td>\n",
       "      <td>A2</td>\n",
       "      <td>True</td>\n",
       "      <td>False</td>\n",
       "      <td>False</td>\n",
       "      <td>True</td>\n",
       "      <td>False</td>\n",
       "      <td>True</td>\n",
       "      <td>True</td>\n",
       "      <td>False</td>\n",
       "      <td>True</td>\n",
       "      <td>False</td>\n",
       "      <td>3.179371</td>\n",
       "    </tr>\n",
       "    <tr>\n",
       "      <th>PTO$E@A2.JPG</th>\n",
       "      <td>ImageBase\\Ext\\Fa2\\PTO$E@A2.JPG</td>\n",
       "      <td>[O, P, T]</td>\n",
       "      <td>E</td>\n",
       "      <td>A2</td>\n",
       "      <td>False</td>\n",
       "      <td>False</td>\n",
       "      <td>False</td>\n",
       "      <td>False</td>\n",
       "      <td>False</td>\n",
       "      <td>True</td>\n",
       "      <td>True</td>\n",
       "      <td>False</td>\n",
       "      <td>True</td>\n",
       "      <td>False</td>\n",
       "      <td>3.345244</td>\n",
       "    </tr>\n",
       "    <tr>\n",
       "      <th>TCM$E@A2.JPG</th>\n",
       "      <td>ImageBase\\Ext\\Fa2\\TCM$E@A2.JPG</td>\n",
       "      <td>[C, M, T]</td>\n",
       "      <td>E</td>\n",
       "      <td>A2</td>\n",
       "      <td>True</td>\n",
       "      <td>False</td>\n",
       "      <td>False</td>\n",
       "      <td>True</td>\n",
       "      <td>False</td>\n",
       "      <td>False</td>\n",
       "      <td>False</td>\n",
       "      <td>False</td>\n",
       "      <td>True</td>\n",
       "      <td>False</td>\n",
       "      <td>3.427424</td>\n",
       "    </tr>\n",
       "    <tr>\n",
       "      <th>TCMP$E@A2.JPG</th>\n",
       "      <td>ImageBase\\Ext\\Fa2\\TCMP$E@A2.JPG</td>\n",
       "      <td>[C, M, P, T]</td>\n",
       "      <td>E</td>\n",
       "      <td>A2</td>\n",
       "      <td>True</td>\n",
       "      <td>False</td>\n",
       "      <td>False</td>\n",
       "      <td>True</td>\n",
       "      <td>False</td>\n",
       "      <td>False</td>\n",
       "      <td>True</td>\n",
       "      <td>False</td>\n",
       "      <td>True</td>\n",
       "      <td>False</td>\n",
       "      <td>3.245831</td>\n",
       "    </tr>\n",
       "  </tbody>\n",
       "</table>\n",
       "</div>"
      ],
      "text/plain": [
       "                                            path           classe iluminacao  \\\n",
       "id                                                                             \n",
       "PCT$E@A2.JPG      ImageBase\\Ext\\Fa2\\PCT$E@A2.JPG        [C, P, T]          E   \n",
       "POMCT$E@A2.JPG  ImageBase\\Ext\\Fa2\\POMCT$E@A2.JPG  [C, M, O, P, T]          E   \n",
       "PTO$E@A2.JPG      ImageBase\\Ext\\Fa2\\PTO$E@A2.JPG        [O, P, T]          E   \n",
       "TCM$E@A2.JPG      ImageBase\\Ext\\Fa2\\TCM$E@A2.JPG        [C, M, T]          E   \n",
       "TCMP$E@A2.JPG    ImageBase\\Ext\\Fa2\\TCMP$E@A2.JPG     [C, M, P, T]          E   \n",
       "\n",
       "               fundo      C      F      H      M      N      O      P      R  \\\n",
       "id                                                                             \n",
       "PCT$E@A2.JPG      A2   True  False  False  False  False  False   True  False   \n",
       "POMCT$E@A2.JPG    A2   True  False  False   True  False   True   True  False   \n",
       "PTO$E@A2.JPG      A2  False  False  False  False  False   True   True  False   \n",
       "TCM$E@A2.JPG      A2   True  False  False   True  False  False  False  False   \n",
       "TCMP$E@A2.JPG     A2   True  False  False   True  False  False   True  False   \n",
       "\n",
       "                   T      X      size  \n",
       "id                                     \n",
       "PCT$E@A2.JPG    True  False  3.426981  \n",
       "POMCT$E@A2.JPG  True  False  3.179371  \n",
       "PTO$E@A2.JPG    True  False  3.345244  \n",
       "TCM$E@A2.JPG    True  False  3.427424  \n",
       "TCMP$E@A2.JPG   True  False  3.245831  "
      ]
     },
     "execution_count": 2,
     "metadata": {},
     "output_type": "execute_result"
    }
   ],
   "source": [
    "x=ImageBase(\"./ImageBase/\")\n",
    "x.data.head()"
   ]
  },
  {
   "cell_type": "markdown",
   "id": "7321f87f",
   "metadata": {},
   "source": [
    "# Metadados "
   ]
  },
  {
   "cell_type": "code",
   "execution_count": 3,
   "id": "8365b293",
   "metadata": {},
   "outputs": [
    {
     "data": {
      "text/plain": [
       "{'Classes': ['C', 'F', 'H', 'M', 'N', 'O', 'P', 'R', 'T', 'X'],\n",
       " 'Número de Classes': 10,\n",
       " 'Fundos': ['Listrado',\n",
       "  'Branco',\n",
       "  'Madeira',\n",
       "  'Marrom',\n",
       "  'Estampado',\n",
       "  'Azul Claro',\n",
       "  'Grama',\n",
       "  'Azul'],\n",
       " 'Iluminações': ['Interna', 'Externa'],\n",
       " 'Número de Imagens': 213,\n",
       " 'Tamanho Total (MB)': 486.27}"
      ]
     },
     "execution_count": 3,
     "metadata": {},
     "output_type": "execute_result"
    }
   ],
   "source": [
    "x.meta"
   ]
  },
  {
   "cell_type": "markdown",
   "id": "383e9a10",
   "metadata": {},
   "source": [
    "# Metadados das Classes"
   ]
  },
  {
   "cell_type": "code",
   "execution_count": 4,
   "id": "44367ba1",
   "metadata": {},
   "outputs": [
    {
     "data": {
      "text/html": [
       "<div>\n",
       "<style scoped>\n",
       "    .dataframe tbody tr th:only-of-type {\n",
       "        vertical-align: middle;\n",
       "    }\n",
       "\n",
       "    .dataframe tbody tr th {\n",
       "        vertical-align: top;\n",
       "    }\n",
       "\n",
       "    .dataframe thead th {\n",
       "        text-align: right;\n",
       "    }\n",
       "</style>\n",
       "<table border=\"1\" class=\"dataframe\">\n",
       "  <thead>\n",
       "    <tr style=\"text-align: right;\">\n",
       "      <th></th>\n",
       "      <th>Classe</th>\n",
       "      <th>Código</th>\n",
       "      <th>Número de Amostras</th>\n",
       "    </tr>\n",
       "  </thead>\n",
       "  <tbody>\n",
       "    <tr>\n",
       "      <th>C</th>\n",
       "      <td>Carregador</td>\n",
       "      <td>0</td>\n",
       "      <td>47</td>\n",
       "    </tr>\n",
       "    <tr>\n",
       "      <th>F</th>\n",
       "      <td>Faca</td>\n",
       "      <td>1</td>\n",
       "      <td>88</td>\n",
       "    </tr>\n",
       "    <tr>\n",
       "      <th>H</th>\n",
       "      <td>Chinelo</td>\n",
       "      <td>2</td>\n",
       "      <td>69</td>\n",
       "    </tr>\n",
       "    <tr>\n",
       "      <th>M</th>\n",
       "      <td>Mouse</td>\n",
       "      <td>3</td>\n",
       "      <td>46</td>\n",
       "    </tr>\n",
       "    <tr>\n",
       "      <th>N</th>\n",
       "      <td>Controle</td>\n",
       "      <td>4</td>\n",
       "      <td>88</td>\n",
       "    </tr>\n",
       "    <tr>\n",
       "      <th>O</th>\n",
       "      <td>Cortador de Unha</td>\n",
       "      <td>5</td>\n",
       "      <td>55</td>\n",
       "    </tr>\n",
       "    <tr>\n",
       "      <th>P</th>\n",
       "      <td>Protetor Solar</td>\n",
       "      <td>6</td>\n",
       "      <td>51</td>\n",
       "    </tr>\n",
       "    <tr>\n",
       "      <th>R</th>\n",
       "      <td>Parafuso</td>\n",
       "      <td>7</td>\n",
       "      <td>88</td>\n",
       "    </tr>\n",
       "    <tr>\n",
       "      <th>T</th>\n",
       "      <td>Tesoura</td>\n",
       "      <td>8</td>\n",
       "      <td>51</td>\n",
       "    </tr>\n",
       "    <tr>\n",
       "      <th>X</th>\n",
       "      <td>Chave</td>\n",
       "      <td>9</td>\n",
       "      <td>100</td>\n",
       "    </tr>\n",
       "  </tbody>\n",
       "</table>\n",
       "</div>"
      ],
      "text/plain": [
       "             Classe Código Número de Amostras\n",
       "C        Carregador      0                 47\n",
       "F              Faca      1                 88\n",
       "H           Chinelo      2                 69\n",
       "M             Mouse      3                 46\n",
       "N          Controle      4                 88\n",
       "O  Cortador de Unha      5                 55\n",
       "P    Protetor Solar      6                 51\n",
       "R          Parafuso      7                 88\n",
       "T           Tesoura      8                 51\n",
       "X             Chave      9                100"
      ]
     },
     "execution_count": 4,
     "metadata": {},
     "output_type": "execute_result"
    }
   ],
   "source": [
    "x.info_classes"
   ]
  },
  {
   "cell_type": "markdown",
   "id": "b420aa47",
   "metadata": {},
   "source": [
    "# Metadados das Iluminações"
   ]
  },
  {
   "cell_type": "code",
   "execution_count": 5,
   "id": "19746a38",
   "metadata": {},
   "outputs": [
    {
     "data": {
      "text/html": [
       "<div>\n",
       "<style scoped>\n",
       "    .dataframe tbody tr th:only-of-type {\n",
       "        vertical-align: middle;\n",
       "    }\n",
       "\n",
       "    .dataframe tbody tr th {\n",
       "        vertical-align: top;\n",
       "    }\n",
       "\n",
       "    .dataframe thead th {\n",
       "        text-align: right;\n",
       "    }\n",
       "</style>\n",
       "<table border=\"1\" class=\"dataframe\">\n",
       "  <thead>\n",
       "    <tr style=\"text-align: right;\">\n",
       "      <th></th>\n",
       "      <th>Iluminação</th>\n",
       "      <th>Número de Amostras</th>\n",
       "    </tr>\n",
       "  </thead>\n",
       "  <tbody>\n",
       "    <tr>\n",
       "      <th>I</th>\n",
       "      <td>Interna</td>\n",
       "      <td>119</td>\n",
       "    </tr>\n",
       "    <tr>\n",
       "      <th>E</th>\n",
       "      <td>Externa</td>\n",
       "      <td>94</td>\n",
       "    </tr>\n",
       "  </tbody>\n",
       "</table>\n",
       "</div>"
      ],
      "text/plain": [
       "  Iluminação Número de Amostras\n",
       "I    Interna                119\n",
       "E    Externa                 94"
      ]
     },
     "execution_count": 5,
     "metadata": {},
     "output_type": "execute_result"
    }
   ],
   "source": [
    "x.info_iluminacoes"
   ]
  },
  {
   "cell_type": "markdown",
   "id": "1cc4386b",
   "metadata": {},
   "source": [
    "# Metadados dos Fundos"
   ]
  },
  {
   "cell_type": "code",
   "execution_count": 6,
   "id": "ae408874",
   "metadata": {},
   "outputs": [
    {
     "data": {
      "text/html": [
       "<div>\n",
       "<style scoped>\n",
       "    .dataframe tbody tr th:only-of-type {\n",
       "        vertical-align: middle;\n",
       "    }\n",
       "\n",
       "    .dataframe tbody tr th {\n",
       "        vertical-align: top;\n",
       "    }\n",
       "\n",
       "    .dataframe thead th {\n",
       "        text-align: right;\n",
       "    }\n",
       "</style>\n",
       "<table border=\"1\" class=\"dataframe\">\n",
       "  <thead>\n",
       "    <tr style=\"text-align: right;\">\n",
       "      <th></th>\n",
       "      <th>Fundo</th>\n",
       "      <th>Número de Amostras</th>\n",
       "    </tr>\n",
       "  </thead>\n",
       "  <tbody>\n",
       "    <tr>\n",
       "      <th>L</th>\n",
       "      <td>Listrado</td>\n",
       "      <td>49</td>\n",
       "    </tr>\n",
       "    <tr>\n",
       "      <th>B</th>\n",
       "      <td>Branco</td>\n",
       "      <td>44</td>\n",
       "    </tr>\n",
       "    <tr>\n",
       "      <th>M</th>\n",
       "      <td>Madeira</td>\n",
       "      <td>36</td>\n",
       "    </tr>\n",
       "    <tr>\n",
       "      <th>F</th>\n",
       "      <td>Marrom</td>\n",
       "      <td>28</td>\n",
       "    </tr>\n",
       "    <tr>\n",
       "      <th>R</th>\n",
       "      <td>Estampado</td>\n",
       "      <td>18</td>\n",
       "    </tr>\n",
       "    <tr>\n",
       "      <th>A2</th>\n",
       "      <td>Azul Claro</td>\n",
       "      <td>14</td>\n",
       "    </tr>\n",
       "    <tr>\n",
       "      <th>G</th>\n",
       "      <td>Grama</td>\n",
       "      <td>13</td>\n",
       "    </tr>\n",
       "    <tr>\n",
       "      <th>A</th>\n",
       "      <td>Azul</td>\n",
       "      <td>11</td>\n",
       "    </tr>\n",
       "  </tbody>\n",
       "</table>\n",
       "</div>"
      ],
      "text/plain": [
       "         Fundo Número de Amostras\n",
       "L     Listrado                 49\n",
       "B       Branco                 44\n",
       "M      Madeira                 36\n",
       "F       Marrom                 28\n",
       "R    Estampado                 18\n",
       "A2  Azul Claro                 14\n",
       "G        Grama                 13\n",
       "A         Azul                 11"
      ]
     },
     "execution_count": 6,
     "metadata": {},
     "output_type": "execute_result"
    }
   ],
   "source": [
    "x.info_fundos"
   ]
  },
  {
   "cell_type": "markdown",
   "id": "e75aff2c",
   "metadata": {},
   "source": [
    "# RGB2gray"
   ]
  },
  {
   "cell_type": "code",
   "execution_count": 7,
   "id": "d8bc62d6",
   "metadata": {},
   "outputs": [],
   "source": [
    "def RGB2gray(img):\n",
    "    return cvtColor(img, COLOR_BGR2GRAY)"
   ]
  },
  {
   "cell_type": "markdown",
   "id": "6710b99c",
   "metadata": {},
   "source": [
    "# Contrast Stretching"
   ]
  },
  {
   "cell_type": "code",
   "execution_count": 8,
   "id": "eb053174",
   "metadata": {},
   "outputs": [],
   "source": [
    "def contrast_stretching(img):\n",
    "    intensidade_minima = img.min()\n",
    "    intensidade_maxima = img.max()\n",
    "    return (img - intensidade_minima) / (intensidade_maxima - intensidade_minima) * 255"
   ]
  },
  {
   "cell_type": "markdown",
   "id": "f4f54aec",
   "metadata": {},
   "source": [
    "# Log"
   ]
  },
  {
   "cell_type": "code",
   "execution_count": 9,
   "id": "7d6e00ad",
   "metadata": {},
   "outputs": [],
   "source": [
    "def log(img, base):\n",
    "    return np.log(img) / np.log(base)"
   ]
  },
  {
   "cell_type": "markdown",
   "id": "12cb741d",
   "metadata": {},
   "source": [
    "# Exponencial"
   ]
  },
  {
   "cell_type": "code",
   "execution_count": 31,
   "id": "7a1f8085",
   "metadata": {},
   "outputs": [],
   "source": [
    "def exp(img, c):\n",
    "    return np.power(img, c)"
   ]
  },
  {
   "cell_type": "markdown",
   "id": "26bc6adb",
   "metadata": {},
   "source": [
    "# Laplaciano"
   ]
  },
  {
   "cell_type": "code",
   "execution_count": 11,
   "id": "8833923c",
   "metadata": {},
   "outputs": [],
   "source": [
    "def convolution2d(image, kernel):\n",
    "    m, n = kernel.shape\n",
    "    if (m == n):\n",
    "        y, x = image.shape\n",
    "        y = y - m + 1\n",
    "        x = x - m + 1\n",
    "        new_image = np.zeros((y,x))\n",
    "        for i in range(y):\n",
    "            for j in range(x):\n",
    "                new_image[i][j] = np.sum(image[i:i+m, j:j+m]*kernel)\n",
    "    return new_image"
   ]
  },
  {
   "cell_type": "code",
   "execution_count": 33,
   "id": "485d9a77",
   "metadata": {},
   "outputs": [],
   "source": [
    "def laplaciano(img):\n",
    "    return convolution2d(img, np.array([[1,1,1], [1,-8,1], [1,1,1]]))"
   ]
  },
  {
   "cell_type": "markdown",
   "id": "a29c6c51",
   "metadata": {},
   "source": [
    "# Filtro Média"
   ]
  },
  {
   "cell_type": "code",
   "execution_count": 36,
   "id": "f38248eb",
   "metadata": {},
   "outputs": [],
   "source": [
    "def filtro_media(img):\n",
    "    return convolution2d(img, 1/49 * np.ones((7,7)))"
   ]
  },
  {
   "cell_type": "markdown",
   "id": "5edd916e",
   "metadata": {},
   "source": [
    "# Processando o DataSet para Todas as Função"
   ]
  },
  {
   "cell_type": "code",
   "execution_count": 61,
   "id": "eb8227ee",
   "metadata": {},
   "outputs": [],
   "source": [
    "funcs = [contrast_stretching, log, exp, laplaciano, filtro_media]\n",
    "funcs_name = ['contrast_stretching', 'log', 'exp', 'laplaciano', 'filtro_media']\n",
    "cs = contrast_stretching\n",
    "def process():\n",
    "    c = 1\n",
    "    for name in x.data.index:\n",
    "        img = x.getById(name)\n",
    "        img = cvtColor(img, COLOR_BGR2GRAY)\n",
    "        img = resize(img, (0,0), fx=.3, fy=.3)\n",
    "        \n",
    "        imwrite('./augmentedDataSet/contrast_stretching/' + name, contrast_stretching(img))\n",
    "        imwrite('./augmentedDataSet/log/' + name, cs(log(img, 2)))\n",
    "        imwrite('./augmentedDataSet/exp/' + name, cs(exp(img, 1.5)))\n",
    "        imwrite('./augmentedDataSet/laplaciano/' + name, laplaciano(img))\n",
    "        imwrite('./augmentedDataSet/media/' + name, filtro_media(img))\n",
    "        \n",
    "        print(c)\n",
    "        c+=1"
   ]
  },
  {
   "cell_type": "code",
   "execution_count": null,
   "id": "c07b3dd6",
   "metadata": {},
   "outputs": [
    {
     "name": "stdout",
     "output_type": "stream",
     "text": [
      "1\n",
      "2\n",
      "3\n",
      "4\n",
      "5\n",
      "6\n",
      "7\n",
      "8\n",
      "9\n",
      "10\n",
      "11\n",
      "12\n",
      "13\n",
      "14\n",
      "15\n",
      "16\n",
      "17\n",
      "18\n",
      "19\n",
      "20\n",
      "21\n",
      "22\n",
      "23\n",
      "24\n",
      "25\n",
      "26\n",
      "27\n",
      "28\n",
      "29\n",
      "30\n",
      "31\n",
      "32\n",
      "33\n",
      "34\n",
      "35\n",
      "36\n",
      "37\n",
      "38\n",
      "39\n",
      "40\n",
      "41\n",
      "42\n",
      "43\n",
      "44\n",
      "45\n",
      "46\n",
      "47\n",
      "48\n",
      "49\n",
      "50\n",
      "51\n",
      "52\n",
      "53\n",
      "54\n",
      "55\n",
      "56\n",
      "57\n",
      "58\n",
      "59\n",
      "60\n",
      "61\n",
      "62\n",
      "63\n",
      "64\n",
      "65\n",
      "66\n",
      "67\n",
      "68\n",
      "69\n",
      "70\n",
      "71\n",
      "72\n",
      "73\n",
      "74\n",
      "75\n",
      "76\n",
      "77\n",
      "78\n",
      "79\n",
      "80\n",
      "81\n",
      "82\n",
      "83\n",
      "84\n",
      "85\n",
      "86\n",
      "87\n",
      "88\n",
      "89\n",
      "90\n",
      "91\n",
      "92\n",
      "93\n",
      "94\n",
      "95\n",
      "96\n",
      "97\n",
      "98\n"
     ]
    },
    {
     "name": "stderr",
     "output_type": "stream",
     "text": [
      "C:\\Users\\WILLIA~1.GAR\\AppData\\Local\\Temp/ipykernel_8380/3323199778.py:2: RuntimeWarning: divide by zero encountered in log\n",
      "  return np.log(img) / np.log(base)\n",
      "C:\\Users\\WILLIA~1.GAR\\AppData\\Local\\Temp/ipykernel_8380/2306001285.py:4: RuntimeWarning: invalid value encountered in subtract\n",
      "  return (img - intensidade_minima) / (intensidade_maxima - intensidade_minima) * 255\n",
      "C:\\Users\\WILLIA~1.GAR\\AppData\\Local\\Temp/ipykernel_8380/2306001285.py:4: RuntimeWarning: invalid value encountered in true_divide\n",
      "  return (img - intensidade_minima) / (intensidade_maxima - intensidade_minima) * 255\n"
     ]
    },
    {
     "name": "stdout",
     "output_type": "stream",
     "text": [
      "99\n",
      "100\n",
      "101\n",
      "102\n",
      "103\n"
     ]
    }
   ],
   "source": [
    "process()"
   ]
  },
  {
   "cell_type": "code",
   "execution_count": null,
   "id": "4f0438a1",
   "metadata": {},
   "outputs": [],
   "source": []
  }
 ],
 "metadata": {
  "kernelspec": {
   "display_name": "Python 3 (ipykernel)",
   "language": "python",
   "name": "python3"
  },
  "language_info": {
   "codemirror_mode": {
    "name": "ipython",
    "version": 3
   },
   "file_extension": ".py",
   "mimetype": "text/x-python",
   "name": "python",
   "nbconvert_exporter": "python",
   "pygments_lexer": "ipython3",
   "version": "3.9.7"
  }
 },
 "nbformat": 4,
 "nbformat_minor": 5
}
